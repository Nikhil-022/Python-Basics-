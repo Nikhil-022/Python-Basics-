{
 "cells": [
  {
   "cell_type": "code",
   "execution_count": 4,
   "metadata": {},
   "outputs": [
    {
     "name": "stdout",
     "output_type": "stream",
     "text": [
      "['False', 'None', 'True', 'and', 'as', 'assert', 'break', 'class', 'continue', 'def', 'del', 'elif', 'else', 'except', 'finally', 'for', 'from', 'global', 'if', 'import', 'in', 'is', 'lambda', 'nonlocal', 'not', 'or', 'pass', 'raise', 'return', 'try', 'while', 'with', 'yield']\n",
      "\n",
      "total number of keywords 33\n"
     ]
    }
   ],
   "source": [
    "#importing keywords there are total 33 keywords in python.\n",
    "import keyword\n",
    "\n",
    "\n",
    "print (keyword.kwlist)\n",
    "print('\\n Total number of keywords ' , len(keyword.kwlist))"
   ]
  },
  {
   "cell_type": "code",
   "execution_count": 5,
   "metadata": {},
   "outputs": [
    {
     "name": "stdout",
     "output_type": "stream",
     "text": [
      "nikhil\n"
     ]
    }
   ],
   "source": [
    "#variables assignments. variable cannot start with digit\n",
    "abc_12 = 'nikhil'\n",
    "print(abc_12)"
   ]
  },
  {
   "cell_type": "code",
   "execution_count": 47,
   "metadata": {},
   "outputs": [
    {
     "name": "stdout",
     "output_type": "stream",
     "text": [
      "0\n",
      "1\n",
      "2\n",
      "3\n",
      "4\n",
      "5\n",
      "6\n",
      "7\n",
      "8\n",
      "9\n"
     ]
    }
   ],
   "source": [
    "# print first 10 numbers.\n",
    "for i in range(10):\n",
    "    print(i);"
   ]
  },
  {
   "cell_type": "code",
   "execution_count": 48,
   "metadata": {},
   "outputs": [
    {
     "name": "stdout",
     "output_type": "stream",
     "text": [
      "0\n",
      "0\n",
      "1\n",
      "1\n",
      "2\n",
      "4\n",
      "3\n",
      "9\n",
      "4\n",
      "16\n",
      "5\n",
      "25\n",
      "6\n",
      "36\n",
      "7\n",
      "49\n",
      "8\n",
      "64\n",
      "9\n",
      "81\n",
      "100\n"
     ]
    }
   ],
   "source": [
    "# for loop and identation\n",
    "for i in range(10):\n",
    "    print(i);\n",
    "    print(i**2);\n",
    "print(100);"
   ]
  },
  {
   "cell_type": "code",
   "execution_count": 10,
   "metadata": {},
   "outputs": [
    {
     "name": "stdout",
     "output_type": "stream",
     "text": [
      "machine learning\n"
     ]
    }
   ],
   "source": [
    "#if statement\n",
    "if True:\n",
    "    print('machine learning')\n",
    "    c = 'aaic';"
   ]
  },
  {
   "cell_type": "code",
   "execution_count": 17,
   "metadata": {},
   "outputs": [
    {
     "name": "stdout",
     "output_type": "stream",
     "text": [
      "10\n",
      "30\n"
     ]
    }
   ],
   "source": [
    "a = 10 ; b =20 ; c= 30;\n",
    "print(a)\n",
    "print(c)\n",
    "\n"
   ]
  },
  {
   "cell_type": "code",
   "execution_count": 18,
   "metadata": {},
   "outputs": [
    {
     "name": "stdout",
     "output_type": "stream",
     "text": [
      "<class 'int'>\n"
     ]
    }
   ],
   "source": [
    "print(type(a))"
   ]
  },
  {
   "cell_type": "code",
   "execution_count": 19,
   "metadata": {},
   "outputs": [
    {
     "name": "stdout",
     "output_type": "stream",
     "text": [
      "<class 'str'>\n"
     ]
    }
   ],
   "source": [
    "#string type\n",
    "a = 'ai'\n",
    "print(type(a))"
   ]
  },
  {
   "cell_type": "code",
   "execution_count": 20,
   "metadata": {},
   "outputs": [
    {
     "name": "stdout",
     "output_type": "stream",
     "text": [
      "1889627552\n"
     ]
    }
   ],
   "source": [
    "a = 12\n",
    "print(id(a))"
   ]
  },
  {
   "cell_type": "code",
   "execution_count": 21,
   "metadata": {},
   "outputs": [
    {
     "name": "stdout",
     "output_type": "stream",
     "text": [
      "1889627616\n"
     ]
    }
   ],
   "source": [
    "#print id of the location where the value is stored\n",
    "a = 14\n",
    "print(id(a))"
   ]
  },
  {
   "cell_type": "code",
   "execution_count": 24,
   "metadata": {},
   "outputs": [
    {
     "name": "stdout",
     "output_type": "stream",
     "text": [
      "15 is of type  <class 'int'>\n"
     ]
    }
   ],
   "source": [
    "#integer type\n",
    "a = 15\n",
    "print(a, 'is of type ' , type(a))"
   ]
  },
  {
   "cell_type": "code",
   "execution_count": 27,
   "metadata": {},
   "outputs": [
    {
     "name": "stdout",
     "output_type": "stream",
     "text": [
      "<class 'complex'>\n",
      "True\n"
     ]
    }
   ],
   "source": [
    "a = 1+2j\n",
    "print(type(a))\n",
    "print(isinstance(1+2j , complex)) #in instance is to check boolean values"
   ]
  },
  {
   "cell_type": "code",
   "execution_count": 29,
   "metadata": {},
   "outputs": [
    {
     "name": "stdout",
     "output_type": "stream",
     "text": [
      "<class 'bool'>\n"
     ]
    }
   ],
   "source": [
    "#boolean value\n",
    "a = True\n",
    "print(type(a))"
   ]
  },
  {
   "cell_type": "code",
   "execution_count": 30,
   "metadata": {},
   "outputs": [
    {
     "name": "stdout",
     "output_type": "stream",
     "text": [
      "<class 'bool'>\n"
     ]
    }
   ],
   "source": [
    "#boolean value\n",
    "b = False\n",
    "print(type(b))"
   ]
  },
  {
   "cell_type": "code",
   "execution_count": 34,
   "metadata": {},
   "outputs": [
    {
     "name": "stdout",
     "output_type": "stream",
     "text": [
      "this is an online ai course\n",
      "<class 'str'>\n"
     ]
    }
   ],
   "source": [
    "#printing type of s \n",
    "s = '''this is an online ai course'''\n",
    "print(s)\n",
    "print(type(s))"
   ]
  },
  {
   "cell_type": "code",
   "execution_count": 38,
   "metadata": {},
   "outputs": [
    {
     "name": "stdout",
     "output_type": "stream",
     "text": [
      "r\n"
     ]
    }
   ],
   "source": [
    "#printing index from last \n",
    "print(s[-3])"
   ]
  },
  {
   "cell_type": "code",
   "execution_count": 42,
   "metadata": {},
   "outputs": [
    {
     "data": {
      "text/plain": [
       "'nline ai course'"
      ]
     },
     "execution_count": 42,
     "metadata": {},
     "output_type": "execute_result"
    }
   ],
   "source": [
    "#slicing\n",
    "\n",
    "s[12:] print everything after index 12 ownwards."
   ]
  },
  {
   "cell_type": "code",
   "execution_count": 43,
   "metadata": {},
   "outputs": [
    {
     "name": "stdout",
     "output_type": "stream",
     "text": [
      "<class 'list'>\n"
     ]
    }
   ],
   "source": [
    "#lists are mutable and are ordered elements . \n",
    "# list is a data structure. #lists are created with square brackets.\n",
    "a = [14 , 15 , 'nikhil']\n",
    "print(type(a))"
   ]
  },
  {
   "cell_type": "code",
   "execution_count": 46,
   "metadata": {},
   "outputs": [
    {
     "name": "stdout",
     "output_type": "stream",
     "text": [
      "<class 'list'>\n",
      "[14, 30.7, 'nikhil']\n"
     ]
    }
   ],
   "source": [
    "#changing index 1 to 30.7(float)\n",
    "a [1] = 30.7\n",
    "print(type(a))\n",
    "print (a)"
   ]
  },
  {
   "cell_type": "code",
   "execution_count": 50,
   "metadata": {},
   "outputs": [
    {
     "name": "stdout",
     "output_type": "stream",
     "text": [
      "(1, 1.5, 'string')\n"
     ]
    }
   ],
   "source": [
    "#tuples are enclosed in parenthesis and are immutable.\n",
    "#tuples are an another data structures in python.\n",
    "t = (1, 1.5, 'string')\n",
    "print (t)"
   ]
  },
  {
   "cell_type": "code",
   "execution_count": 52,
   "metadata": {},
   "outputs": [
    {
     "name": "stdout",
     "output_type": "stream",
     "text": [
      "<class 'set'>\n",
      "{40, 10, 20, 30}\n"
     ]
    }
   ],
   "source": [
    "# sets are declared in curly braces\n",
    "#sets only stored unique values\n",
    "#sets are unordered we cant access one particular element \n",
    "s = {10, 20 ,30 , 40}\n",
    "print(type(s))\n",
    "print (s)"
   ]
  },
  {
   "cell_type": "code",
   "execution_count": 56,
   "metadata": {},
   "outputs": [
    {
     "name": "stdout",
     "output_type": "stream",
     "text": [
      "tomatoes\n"
     ]
    }
   ],
   "source": [
    "#dictionaries are like hashtables. \n",
    "# they are unordered with key and value. \n",
    "# a is the key and apple is the value.\n",
    "d = {'a' : 'apple', 'b':'mango' , 'c' : 'tomatoes'}\n",
    "print(d['c'])"
   ]
  },
  {
   "cell_type": "code",
   "execution_count": 57,
   "metadata": {},
   "outputs": [
    {
     "data": {
      "text/plain": [
       "5.0"
      ]
     },
     "execution_count": 57,
     "metadata": {},
     "output_type": "execute_result"
    }
   ],
   "source": [
    "#convert datatypes\n",
    "\n",
    "float(5)\n"
   ]
  },
  {
   "cell_type": "code",
   "execution_count": 58,
   "metadata": {},
   "outputs": [
    {
     "data": {
      "text/plain": [
       "5"
      ]
     },
     "execution_count": 58,
     "metadata": {},
     "output_type": "execute_result"
    }
   ],
   "source": [
    "int(5.0)"
   ]
  },
  {
   "cell_type": "code",
   "execution_count": 60,
   "metadata": {},
   "outputs": [
    {
     "data": {
      "text/plain": [
       "'20'"
      ]
     },
     "execution_count": 60,
     "metadata": {},
     "output_type": "execute_result"
    }
   ],
   "source": [
    "str(20)"
   ]
  },
  {
   "cell_type": "code",
   "execution_count": 64,
   "metadata": {},
   "outputs": [
    {
     "name": "stdout",
     "output_type": "stream",
     "text": [
      "congratulationssatish you just write 100 lines of code\n"
     ]
    }
   ],
   "source": [
    "#concatenate strings\n",
    "\n",
    "user = 'satish'\n",
    "lines = 100\n",
    "print('congratulations' + user + ' you just write ' + str (lines) + ' lines of code')"
   ]
  },
  {
   "cell_type": "code",
   "execution_count": 66,
   "metadata": {},
   "outputs": [
    {
     "name": "stdout",
     "output_type": "stream",
     "text": [
      "<class 'set'>\n"
     ]
    }
   ],
   "source": [
    "a = (1,2,3)\n",
    "\n",
    "s = set(a)\n",
    "print(type(s))"
   ]
  },
  {
   "cell_type": "code",
   "execution_count": 67,
   "metadata": {},
   "outputs": [
    {
     "data": {
      "text/plain": [
       "['h', 'e', 'l', 'l', 'o']"
      ]
     },
     "execution_count": 67,
     "metadata": {},
     "output_type": "execute_result"
    }
   ],
   "source": [
    "list('hello') #convert list to string "
   ]
  },
  {
   "cell_type": "code",
   "execution_count": 69,
   "metadata": {},
   "outputs": [
    {
     "name": "stdout",
     "output_type": "stream",
     "text": [
      "the value of a is 10\n"
     ]
    }
   ],
   "source": [
    "a = 10;\n",
    "b = \"the value of a is \" +str(a)\n",
    "print(b)"
   ]
  },
  {
   "cell_type": "code",
   "execution_count": 77,
   "metadata": {},
   "outputs": [
    {
     "name": "stdout",
     "output_type": "stream",
     "text": [
      "the value of a is 10 and b is 20 \n",
      "the value of a is 20 and b is 10 \n"
     ]
    }
   ],
   "source": [
    "#output formatting\n",
    "a = 10;\n",
    "b = 20;\n",
    "print(\"the value of a is {} and b is {} \" .format(a , b))\n",
    "print(\"the value of a is {1} and b is {0} \".format(a,b))"
   ]
  },
  {
   "cell_type": "code",
   "execution_count": 79,
   "metadata": {},
   "outputs": [
    {
     "name": "stdout",
     "output_type": "stream",
     "text": [
      "hello nikhil , good morning\n"
     ]
    }
   ],
   "source": [
    "print(\"hello {name} , {greetings}\".format(name='nikhil',greetings ='good morning'))\n"
   ]
  },
  {
   "cell_type": "code",
   "execution_count": 84,
   "metadata": {},
   "outputs": [
    {
     "name": "stdout",
     "output_type": "stream",
     "text": [
      "\n",
      " enter a number50\n",
      "50\n"
     ]
    }
   ],
   "source": [
    "#input function\n",
    "a = input( '\\n enter a number')\n",
    "print(a)"
   ]
  },
  {
   "cell_type": "code",
   "execution_count": 87,
   "metadata": {},
   "outputs": [
    {
     "data": {
      "text/plain": [
       "5"
      ]
     },
     "execution_count": 87,
     "metadata": {},
     "output_type": "execute_result"
    }
   ],
   "source": [
    "10//2\n"
   ]
  },
  {
   "cell_type": "code",
   "execution_count": 90,
   "metadata": {},
   "outputs": [
    {
     "name": "stdout",
     "output_type": "stream",
     "text": [
      "100\n"
     ]
    }
   ],
   "source": [
    "a = 10\n",
    "a *=10\n",
    "print(a)"
   ]
  },
  {
   "cell_type": "code",
   "execution_count": 92,
   "metadata": {},
   "outputs": [
    {
     "name": "stdout",
     "output_type": "stream",
     "text": [
      "True\n"
     ]
    }
   ],
   "source": [
    "#identity operators\n",
    "a = 5\n",
    "b = 5\n",
    "print(a is b)"
   ]
  },
  {
   "cell_type": "code",
   "execution_count": 104,
   "metadata": {},
   "outputs": [
    {
     "name": "stdout",
     "output_type": "stream",
     "text": [
      "False\n"
     ]
    }
   ],
   "source": [
    "a = [11,12,13]\n",
    "b = [11,12,13]\n",
    "print(a is b)"
   ]
  },
  {
   "cell_type": "code",
   "execution_count": 7,
   "metadata": {},
   "outputs": [
    {
     "name": "stdout",
     "output_type": "stream",
     "text": [
      "True\n"
     ]
    }
   ],
   "source": [
    "s1 = \"nikhil\"\n",
    "s2 = \"nikhil\"\n",
    "print(s1 is s2)"
   ]
  },
  {
   "cell_type": "code",
   "execution_count": 13,
   "metadata": {},
   "outputs": [
    {
     "name": "stdout",
     "output_type": "stream",
     "text": [
      "True\n"
     ]
    }
   ],
   "source": [
    "#membership operators #they only operate on keys not values.\n",
    "d = {\"sample\" : 'apple' , 2 :'mango'}\n",
    "print(\"sample\" in d)\n"
   ]
  },
  {
   "cell_type": "code",
   "execution_count": 107,
   "metadata": {},
   "outputs": [
    {
     "name": "stdout",
     "output_type": "stream",
     "text": [
      "false\n"
     ]
    }
   ],
   "source": [
    "#ifelse statement\n",
    "a = 10;\n",
    "if(a<10):\n",
    "    print('true');\n",
    "else:\n",
    "    print('false');"
   ]
  },
  {
   "cell_type": "code",
   "execution_count": 114,
   "metadata": {},
   "outputs": [
    {
     "name": "stdout",
     "output_type": "stream",
     "text": [
      "negative\n"
     ]
    }
   ],
   "source": [
    "a = 20;\n",
    "if a>30:\n",
    "    print('positive')\n",
    "elif a<=20:\n",
    "        print('negative')\n",
    "else:\n",
    "    print('compute zero')"
   ]
  },
  {
   "cell_type": "code",
   "execution_count": 4,
   "metadata": {},
   "outputs": [
    {
     "name": "stdout",
     "output_type": "stream",
     "text": [
      "True\n",
      "False\n"
     ]
    }
   ],
   "source": [
    "#operators\n",
    "\n",
    "a , b = True , False;\n",
    "\n",
    "print( a or b )\n",
    "print (a and b)"
   ]
  },
  {
   "cell_type": "code",
   "execution_count": 6,
   "metadata": {},
   "outputs": [
    {
     "name": "stdout",
     "output_type": "stream",
     "text": [
      "20\n"
     ]
    }
   ],
   "source": [
    "a = 10\n",
    "a += 10\n",
    "print(a)"
   ]
  },
  {
   "cell_type": "code",
   "execution_count": 21,
   "metadata": {},
   "outputs": [
    {
     "name": "stdout",
     "output_type": "stream",
     "text": [
      "False\n",
      "this will print always\n"
     ]
    }
   ],
   "source": [
    "# control flow statement \n",
    "# if-else statement.\n",
    "a = 10;\n",
    "\n",
    "if (a>20):\n",
    "    print(\"True\"); #python uses identation mainly 4 spaces.\n",
    "else:\n",
    "    print(\"False\");\n",
    "print(\"this will print always\")"
   ]
  },
  {
   "cell_type": "code",
   "execution_count": 22,
   "metadata": {},
   "outputs": [
    {
     "name": "stdout",
     "output_type": "stream",
     "text": [
      "Negative Numbers\n"
     ]
    }
   ],
   "source": [
    "# if-statements; \n",
    "num = 7.0;\n",
    "\n",
    "if(num>10):\n",
    "    print(\"Positive numbers\");\n",
    "print(\"Negative Numbers\");    "
   ]
  },
  {
   "cell_type": "code",
   "execution_count": 28,
   "metadata": {},
   "outputs": [
    {
     "name": "stdout",
     "output_type": "stream",
     "text": [
      "positive numbers\n"
     ]
    }
   ],
   "source": [
    "# in python zero , none and false are considered as false , everything will be considered as true or positive:\n",
    "num = 10\n",
    "\n",
    "if(num>100):\n",
    "    print(\"positive\");\n",
    "elif num == 0:\n",
    "    print(\"negative\");\n",
    "else:\n",
    "    print(\"positive numbers\")"
   ]
  },
  {
   "cell_type": "code",
   "execution_count": 37,
   "metadata": {},
   "outputs": [
    {
     "name": "stdout",
     "output_type": "stream",
     "text": [
      "largest of three number is 200\n"
     ]
    }
   ],
   "source": [
    "#printing largest of the three number is:\n",
    "num1 =  200\n",
    "num2 = 30\n",
    "num3 = 40\n",
    "if(num1>num2) and (num1>num3):\n",
    "    largest =num1\n",
    "elif (num2>num1) and (num2>num3):\n",
    "    largest =num2\n",
    "else:\n",
    "    largest=num3\n",
    "print(\"largest of three number is {}\".format(largest));"
   ]
  },
  {
   "cell_type": "code",
   "execution_count": 10,
   "metadata": {},
   "outputs": [
    {
     "ename": "SyntaxError",
     "evalue": "invalid syntax (<ipython-input-10-0bf503abb57d>, line 2)",
     "output_type": "error",
     "traceback": [
      "\u001b[1;36m  File \u001b[1;32m\"<ipython-input-10-0bf503abb57d>\"\u001b[1;36m, line \u001b[1;32m2\u001b[0m\n\u001b[1;33m    while test expressions():\u001b[0m\n\u001b[1;37m                         ^\u001b[0m\n\u001b[1;31mSyntaxError\u001b[0m\u001b[1;31m:\u001b[0m invalid syntax\n"
     ]
    }
   ],
   "source": [
    "# while loop in python:\n",
    "while test expressions():\n",
    "    body will get execute;\n",
    "    "
   ]
  },
  {
   "cell_type": "code",
   "execution_count": null,
   "metadata": {},
   "outputs": [],
   "source": []
  },
  {
   "cell_type": "code",
   "execution_count": 4,
   "metadata": {},
   "outputs": [
    {
     "name": "stdout",
     "output_type": "stream",
     "text": [
      "product is 32000000\n"
     ]
    }
   ],
   "source": [
    "lst = [10 , 20 , 50 , 40 , 80]\n",
    "\n",
    "product = 1\n",
    "index = 0\n",
    "\n",
    "while index < len(lst):\n",
    "    product *= lst[index]\n",
    "    index += 1;\n",
    "print(\"product is {}\".format(product));"
   ]
  },
  {
   "cell_type": "code",
   "execution_count": 17,
   "metadata": {},
   "outputs": [
    {
     "name": "stdout",
     "output_type": "stream",
     "text": [
      "1\n",
      "2\n",
      "3\n",
      "4\n",
      "5\n",
      "no items left\n"
     ]
    }
   ],
   "source": [
    "# print list numbers\n",
    "numbers = [1,2,3,4,5]\n",
    "index = 0 \n",
    "\n",
    "while index < len(numbers):\n",
    "    print(numbers[index])\n",
    "    index += 1;\n",
    "else:\n",
    "    print (\"no items left\")"
   ]
  },
  {
   "cell_type": "code",
   "execution_count": 16,
   "metadata": {},
   "outputs": [
    {
     "name": "stdout",
     "output_type": "stream",
     "text": [
      "5\n"
     ]
    }
   ],
   "source": [
    "lst = [10,20,30,40,50]\n",
    "print (len(lst));"
   ]
  },
  {
   "cell_type": "code",
   "execution_count": 20,
   "metadata": {},
   "outputs": [
    {
     "name": "stdout",
     "output_type": "stream",
     "text": [
      "enter a number3\n",
      "enter number is odd\n"
     ]
    }
   ],
   "source": [
    "#number is even or odd\n",
    "n = int(input(\"enter a number\"))\n",
    "\n",
    "if n%2==0:\n",
    "    print(\"enter number is even\")\n",
    "else:\n",
    "    print(\"enter number is odd\")\n",
    "    \n"
   ]
  },
  {
   "cell_type": "code",
   "execution_count": 27,
   "metadata": {},
   "outputs": [
    {
     "name": "stdout",
     "output_type": "stream",
     "text": [
      "product is 6000\n"
     ]
    }
   ],
   "source": [
    "#product os all numbers\n",
    "\n",
    "lst = [10,20,30]\n",
    "\n",
    "product = 1;\n",
    "for ele in lst:\n",
    "    product = product * ele;\n",
    "\n",
    "print(\"product is {}\".format(product))"
   ]
  },
  {
   "cell_type": "code",
   "execution_count": null,
   "metadata": {},
   "outputs": [],
   "source": []
  },
  {
   "cell_type": "code",
   "execution_count": 30,
   "metadata": {},
   "outputs": [
    {
     "name": "stdout",
     "output_type": "stream",
     "text": [
      "0\n",
      "1\n",
      "2\n",
      "3\n",
      "4\n",
      "5\n",
      "6\n",
      "7\n",
      "8\n",
      "9\n",
      "10\n",
      "11\n",
      "12\n",
      "13\n",
      "14\n",
      "15\n",
      "16\n",
      "17\n",
      "18\n",
      "19\n"
     ]
    }
   ],
   "source": [
    "# range function in python , print till 19 \n",
    "\n",
    "for i in range(20):\n",
    "    print(i)"
   ]
  },
  {
   "cell_type": "code",
   "execution_count": 33,
   "metadata": {},
   "outputs": [
    {
     "name": "stdout",
     "output_type": "stream",
     "text": [
      "0\n",
      "5\n",
      "10\n",
      "15\n"
     ]
    }
   ],
   "source": [
    "# print range with step size from 1 to 20 with a step size of 4\n",
    "\n",
    "for i in range(0 , 20 , 5):\n",
    "    print(i);"
   ]
  },
  {
   "cell_type": "code",
   "execution_count": 35,
   "metadata": {},
   "outputs": [
    {
     "name": "stdout",
     "output_type": "stream",
     "text": [
      "nikhil\n",
      "is\n",
      "a\n",
      "good\n",
      "boy\n"
     ]
    }
   ],
   "source": [
    "lst1 = ['nikhil','is','a','good','boy']\n",
    "\n",
    "for index in lst1:\n",
    "    print (index)"
   ]
  },
  {
   "cell_type": "code",
   "execution_count": null,
   "metadata": {},
   "outputs": [],
   "source": [
    "lst1 = ['nikhil','is','a','good','boy']\n",
    "\n",
    "for index in range (len(lst1)):\n",
    "    print (lst1[index]);"
   ]
  },
  {
   "cell_type": "code",
   "execution_count": 3,
   "metadata": {},
   "outputs": [
    {
     "name": "stdout",
     "output_type": "stream",
     "text": [
      "enter a number5\n",
      "6 8 \n",
      "14\n"
     ]
    }
   ],
   "source": [
    "# sum of n input integers\n",
    "\n",
    "n = int(input(\"enter a number\"))\n",
    "\n",
    "if n == 0:  #boundary case.\n",
    "    print(0)\n",
    "else:\n",
    "    numberString = input()\n",
    "    s = numberString.split()\n",
    "    \n",
    "    sum =0;\n",
    "    \n",
    "    for ele in s:\n",
    "        sum += int(ele)\n",
    "    print (sum)"
   ]
  },
  {
   "cell_type": "code",
   "execution_count": 6,
   "metadata": {},
   "outputs": [
    {
     "name": "stdout",
     "output_type": "stream",
     "text": [
      "10\n",
      "20\n",
      "30\n",
      "40\n",
      "50\n",
      "60\n"
     ]
    }
   ],
   "source": [
    "lst1 = [10,20,30,40,50,60]\n",
    "\n",
    "for ele in lst1:\n",
    "    print (ele)"
   ]
  },
  {
   "cell_type": "code",
   "execution_count": null,
   "metadata": {},
   "outputs": [],
   "source": []
  },
  {
   "cell_type": "code",
   "execution_count": null,
   "metadata": {},
   "outputs": [],
   "source": []
  }
 ],
 "metadata": {
  "kernelspec": {
   "display_name": "Python 3",
   "language": "python",
   "name": "python3"
  },
  "language_info": {
   "codemirror_mode": {
    "name": "ipython",
    "version": 3
   },
   "file_extension": ".py",
   "mimetype": "text/x-python",
   "name": "python",
   "nbconvert_exporter": "python",
   "pygments_lexer": "ipython3",
   "version": "3.6.5"
  }
 },
 "nbformat": 4,
 "nbformat_minor": 2
}
